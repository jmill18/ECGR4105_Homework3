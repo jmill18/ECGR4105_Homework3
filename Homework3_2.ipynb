{
 "cells": [
  {
   "cell_type": "code",
   "execution_count": 515,
   "id": "a213a465",
   "metadata": {},
   "outputs": [],
   "source": [
    "import numpy as np\n",
    "import pandas as pd\n",
    "import matplotlib.pyplot as plt\n",
    "from sklearn.linear_model import LogisticRegression\n",
    "from sklearn import datasets\n",
    "from sklearn.datasets import load_breast_cancer\n",
    "from sklearn.decomposition import PCA\n",
    "from sklearn.model_selection import train_test_split\n",
    "from sklearn.metrics import confusion_matrix\n",
    "from sklearn import metrics\n",
    "from sklearn.preprocessing import StandardScaler"
   ]
  },
  {
   "cell_type": "code",
   "execution_count": 516,
   "id": "8d09eefb",
   "metadata": {},
   "outputs": [],
   "source": [
    "breast = load_breast_cancer()"
   ]
  },
  {
   "cell_type": "code",
   "execution_count": 517,
   "id": "88a89042",
   "metadata": {},
   "outputs": [
    {
     "data": {
      "text/plain": [
       "(569, 30)"
      ]
     },
     "execution_count": 517,
     "metadata": {},
     "output_type": "execute_result"
    }
   ],
   "source": [
    "breast_data = breast.data\n",
    "breast_data.shape"
   ]
  },
  {
   "cell_type": "code",
   "execution_count": 518,
   "id": "7d25424d",
   "metadata": {},
   "outputs": [],
   "source": [
    "breast_input = pd.DataFrame(breast_data)"
   ]
  },
  {
   "cell_type": "code",
   "execution_count": 519,
   "id": "72490967",
   "metadata": {},
   "outputs": [],
   "source": [
    "breast_labels = breast.target"
   ]
  },
  {
   "cell_type": "code",
   "execution_count": 520,
   "id": "f70c4d78",
   "metadata": {},
   "outputs": [],
   "source": [
    "labels = np.reshape(breast_labels, (569,1))"
   ]
  },
  {
   "cell_type": "code",
   "execution_count": 521,
   "id": "92027b2a",
   "metadata": {},
   "outputs": [],
   "source": [
    "final_breast_data = np.concatenate([breast_data,labels], axis=1)"
   ]
  },
  {
   "cell_type": "code",
   "execution_count": 522,
   "id": "2a50d48e",
   "metadata": {},
   "outputs": [
    {
     "data": {
      "text/plain": [
       "array(['mean radius', 'mean texture', 'mean perimeter', 'mean area',\n",
       "       'mean smoothness', 'mean compactness', 'mean concavity',\n",
       "       'mean concave points', 'mean symmetry', 'mean fractal dimension',\n",
       "       'radius error', 'texture error', 'perimeter error', 'area error',\n",
       "       'smoothness error', 'compactness error', 'concavity error',\n",
       "       'concave points error', 'symmetry error',\n",
       "       'fractal dimension error', 'worst radius', 'worst texture',\n",
       "       'worst perimeter', 'worst area', 'worst smoothness',\n",
       "       'worst compactness', 'worst concavity', 'worst concave points',\n",
       "       'worst symmetry', 'worst fractal dimension'], dtype='<U23')"
      ]
     },
     "execution_count": 522,
     "metadata": {},
     "output_type": "execute_result"
    }
   ],
   "source": [
    "breast_dataset = pd.DataFrame(final_breast_data)\n",
    "features = breast.feature_names\n",
    "features"
   ]
  },
  {
   "cell_type": "code",
   "execution_count": 523,
   "id": "1fd8116f",
   "metadata": {},
   "outputs": [],
   "source": [
    "features_labels = np.append(features, 'label')"
   ]
  },
  {
   "cell_type": "code",
   "execution_count": 524,
   "id": "137f8fc5",
   "metadata": {},
   "outputs": [],
   "source": [
    "breast_dataset.columns = features_labels"
   ]
  },
  {
   "cell_type": "code",
   "execution_count": 525,
   "id": "74c47da8",
   "metadata": {},
   "outputs": [],
   "source": [
    "breast_dataset['label'].replace(0, 'Benign', inplace=True)\n",
    "breast_dataset['label'].replace(1, 'Malignant', inplace=True)"
   ]
  },
  {
   "cell_type": "code",
   "execution_count": 526,
   "id": "eb0c532e",
   "metadata": {
    "scrolled": true
   },
   "outputs": [
    {
     "data": {
      "text/plain": [
       "array([0, 0, 0, 0, 0, 0, 0, 0, 0, 0, 0, 0, 0, 0, 0, 0, 0, 0, 0, 1, 1, 1,\n",
       "       0, 0, 0, 0, 0, 0, 0, 0, 0, 0, 0, 0, 0, 0, 0, 1, 0, 0, 0, 0, 0, 0,\n",
       "       0, 0, 1, 0, 1, 1, 1, 1, 1, 0, 0, 1, 0, 0, 1, 1, 1, 1, 0, 1, 0, 0,\n",
       "       1, 1, 1, 1, 0, 1, 0, 0, 1, 0, 1, 0, 0, 1, 1, 1, 0, 0, 1, 0, 0, 0,\n",
       "       1, 1, 1, 0, 1, 1, 0, 0, 1, 1, 1, 0, 0, 1, 1, 1, 1, 0, 1, 1, 0, 1,\n",
       "       1, 1, 1, 1, 1, 1, 1, 0, 0, 0, 1, 0, 0, 1, 1, 1, 0, 0, 1, 0, 1, 0,\n",
       "       0, 1, 0, 0, 1, 1, 0, 1, 1, 0, 1, 1, 1, 1, 0, 1, 1, 1, 1, 1, 1, 1,\n",
       "       1, 1, 0, 1, 1, 1, 1, 0, 0, 1, 0, 1, 1, 0, 0, 1, 1, 0, 0, 1, 1, 1,\n",
       "       1, 0, 1, 1, 0, 0, 0, 1, 0, 1, 0, 1, 1, 1, 0, 1, 1, 0, 0, 1, 0, 0,\n",
       "       0, 0, 1, 0, 0, 0, 1, 0, 1, 0, 1, 1, 0, 1, 0, 0, 0, 0, 1, 1, 0, 0,\n",
       "       1, 1, 1, 0, 1, 1, 1, 1, 1, 0, 0, 1, 1, 0, 1, 1, 0, 0, 1, 0, 1, 1,\n",
       "       1, 1, 0, 1, 1, 1, 1, 1, 0, 1, 0, 0, 0, 0, 0, 0, 0, 0, 0, 0, 0, 0,\n",
       "       0, 0, 1, 1, 1, 1, 1, 1, 0, 1, 0, 1, 1, 0, 1, 1, 0, 1, 0, 0, 1, 1,\n",
       "       1, 1, 1, 1, 1, 1, 1, 1, 1, 1, 1, 0, 1, 1, 0, 1, 0, 1, 1, 1, 1, 1,\n",
       "       1, 1, 1, 1, 1, 1, 1, 1, 1, 0, 1, 1, 1, 0, 1, 0, 1, 1, 1, 1, 0, 0,\n",
       "       0, 1, 1, 1, 1, 0, 1, 0, 1, 0, 1, 1, 1, 0, 1, 1, 1, 1, 1, 1, 1, 0,\n",
       "       0, 0, 1, 1, 1, 1, 1, 1, 1, 1, 1, 1, 1, 0, 0, 1, 0, 0, 0, 1, 0, 0,\n",
       "       1, 1, 1, 1, 1, 0, 1, 1, 1, 1, 1, 0, 1, 1, 1, 0, 1, 1, 0, 0, 1, 1,\n",
       "       1, 1, 1, 1, 0, 1, 1, 1, 1, 1, 1, 1, 0, 1, 1, 1, 1, 1, 0, 1, 1, 0,\n",
       "       1, 1, 1, 1, 1, 1, 1, 1, 1, 1, 1, 1, 0, 1, 0, 0, 1, 0, 1, 1, 1, 1,\n",
       "       1, 0, 1, 1, 0, 1, 0, 1, 1, 0, 1, 0, 1, 1, 1, 1, 1, 1, 1, 1, 0, 0,\n",
       "       1, 1, 1, 1, 1, 1, 0, 1, 1, 1, 1, 1, 1, 1, 1, 1, 1, 0, 1, 1, 1, 1,\n",
       "       1, 1, 1, 0, 1, 0, 1, 1, 0, 1, 1, 1, 1, 1, 0, 0, 1, 0, 1, 0, 1, 1,\n",
       "       1, 1, 1, 0, 1, 1, 0, 1, 0, 1, 0, 0, 1, 1, 1, 0, 1, 1, 1, 1, 1, 1,\n",
       "       1, 1, 1, 1, 1, 0, 1, 0, 0, 1, 1, 1, 1, 1, 1, 1, 1, 1, 1, 1, 1, 1,\n",
       "       1, 1, 1, 1, 1, 1, 1, 1, 1, 1, 1, 1, 0, 0, 0, 0, 0, 0, 1])"
      ]
     },
     "execution_count": 526,
     "metadata": {},
     "output_type": "execute_result"
    }
   ],
   "source": [
    "breast_labels"
   ]
  },
  {
   "cell_type": "code",
   "execution_count": 527,
   "id": "4f84a951",
   "metadata": {},
   "outputs": [],
   "source": [
    "sc_X = StandardScaler()\n",
    "breast_input = sc_X.fit_transform(breast_input)"
   ]
  },
  {
   "cell_type": "code",
   "execution_count": 528,
   "id": "334c7fbf",
   "metadata": {},
   "outputs": [
    {
     "name": "stdout",
     "output_type": "stream",
     "text": [
      "K: 1\n",
      "Accuracy: 0.9035087719298246\n",
      "Precision: 0.9242424242424242\n",
      "Recall: 0.9104477611940298\n",
      "\n",
      "K: 2\n",
      "Accuracy: 0.9298245614035088\n",
      "Precision: 0.9682539682539683\n",
      "Recall: 0.9104477611940298\n",
      "\n",
      "K: 3\n",
      "Accuracy: 0.9122807017543859\n",
      "Precision: 0.9384615384615385\n",
      "Recall: 0.9104477611940298\n",
      "\n",
      "K: 4\n",
      "Accuracy: 0.9473684210526315\n",
      "Precision: 0.9552238805970149\n",
      "Recall: 0.9552238805970149\n",
      "\n",
      "K: 5\n",
      "Accuracy: 0.956140350877193\n",
      "Precision: 0.9558823529411765\n",
      "Recall: 0.9701492537313433\n",
      "\n",
      "K: 6\n",
      "Accuracy: 0.956140350877193\n",
      "Precision: 0.9558823529411765\n",
      "Recall: 0.9701492537313433\n",
      "\n",
      "K: 7\n",
      "Accuracy: 0.956140350877193\n",
      "Precision: 0.9558823529411765\n",
      "Recall: 0.9701492537313433\n",
      "\n",
      "K: 8\n",
      "Accuracy: 0.956140350877193\n",
      "Precision: 0.9558823529411765\n",
      "Recall: 0.9701492537313433\n",
      "\n",
      "K: 9\n",
      "Accuracy: 0.9473684210526315\n",
      "Precision: 0.9552238805970149\n",
      "Recall: 0.9552238805970149\n",
      "\n"
     ]
    }
   ],
   "source": [
    "breast_input_copy = breast_input\n",
    "acc = [None]*9\n",
    "precision = [None]*9\n",
    "recall = [None]*9\n",
    "for i in range(9):\n",
    "    j=i+1;\n",
    "    breast_input_copy = breast_input\n",
    "    pca = PCA(n_components=j)\n",
    "    breast_input_copy = pca.fit_transform(breast_input_copy)\n",
    "    X_train, X_test, Y_train, Y_test = train_test_split(breast_input_copy, breast_labels, train_size=0.8, test_size=0.2, random_state=0)\n",
    "    Classifier = LogisticRegression()\n",
    "    Classifier.fit(X_train, Y_train)\n",
    "    Y_pred = Classifier.predict(X_test)\n",
    "    cnf_matrix = confusion_matrix(Y_test, Y_pred)\n",
    "    cnf_matrix\n",
    "    acc[i] = metrics.accuracy_score(Y_test, Y_pred)\n",
    "    precision[i] = metrics.precision_score(Y_test, Y_pred)\n",
    "    recall[i] = metrics.recall_score(Y_test, Y_pred)\n",
    "    print(\"K:\", j)\n",
    "    print(\"Accuracy:\", metrics.accuracy_score(Y_test, Y_pred))\n",
    "    print(\"Precision:\", metrics.precision_score(Y_test, Y_pred))\n",
    "    print(\"Recall:\", metrics.recall_score(Y_test, Y_pred))\n",
    "    print(\"\")"
   ]
  },
  {
   "cell_type": "code",
   "execution_count": 529,
   "id": "71673ff6",
   "metadata": {},
   "outputs": [
    {
     "data": {
      "text/plain": [
       "[0.9035087719298246,\n",
       " 0.9298245614035088,\n",
       " 0.9122807017543859,\n",
       " 0.9473684210526315,\n",
       " 0.956140350877193,\n",
       " 0.956140350877193,\n",
       " 0.956140350877193,\n",
       " 0.956140350877193,\n",
       " 0.9473684210526315]"
      ]
     },
     "execution_count": 529,
     "metadata": {},
     "output_type": "execute_result"
    }
   ],
   "source": [
    "acc"
   ]
  },
  {
   "cell_type": "code",
   "execution_count": 530,
   "id": "cc23cd26",
   "metadata": {},
   "outputs": [
    {
     "data": {
      "text/plain": [
       "[0.9242424242424242,\n",
       " 0.9682539682539683,\n",
       " 0.9384615384615385,\n",
       " 0.9552238805970149,\n",
       " 0.9558823529411765,\n",
       " 0.9558823529411765,\n",
       " 0.9558823529411765,\n",
       " 0.9558823529411765,\n",
       " 0.9552238805970149]"
      ]
     },
     "execution_count": 530,
     "metadata": {},
     "output_type": "execute_result"
    }
   ],
   "source": [
    "precision"
   ]
  },
  {
   "cell_type": "code",
   "execution_count": 531,
   "id": "4fff5041",
   "metadata": {},
   "outputs": [
    {
     "data": {
      "text/plain": [
       "[0.9104477611940298,\n",
       " 0.9104477611940298,\n",
       " 0.9104477611940298,\n",
       " 0.9552238805970149,\n",
       " 0.9701492537313433,\n",
       " 0.9701492537313433,\n",
       " 0.9701492537313433,\n",
       " 0.9701492537313433,\n",
       " 0.9552238805970149]"
      ]
     },
     "execution_count": 531,
     "metadata": {},
     "output_type": "execute_result"
    }
   ],
   "source": [
    "recall"
   ]
  },
  {
   "cell_type": "code",
   "execution_count": 532,
   "id": "bff858c8",
   "metadata": {},
   "outputs": [
    {
     "name": "stdout",
     "output_type": "stream",
     "text": [
      "0\n",
      "1\n",
      "2\n",
      "3\n",
      "4\n",
      "5\n",
      "6\n",
      "7\n",
      "8\n"
     ]
    }
   ],
   "source": [
    "K = [None]*9\n",
    "for i in range(9):\n",
    "    print(i)\n",
    "    K[i] = i+1"
   ]
  },
  {
   "cell_type": "code",
   "execution_count": 533,
   "id": "592be90f",
   "metadata": {},
   "outputs": [
    {
     "data": {
      "text/plain": [
       "[1, 2, 3, 4, 5, 6, 7, 8, 9]"
      ]
     },
     "execution_count": 533,
     "metadata": {},
     "output_type": "execute_result"
    }
   ],
   "source": [
    "K"
   ]
  },
  {
   "cell_type": "code",
   "execution_count": 535,
   "id": "34969593",
   "metadata": {},
   "outputs": [
    {
     "data": {
      "image/png": "[encoded data removed]",
      "text/plain": [
       "<Figure size 750x350 with 1 Axes>"
      ]
     },
     "metadata": {},
     "output_type": "display_data"
    }
   ],
   "source": [
    "plt.rcParams[\"figure.figsize\"] = [7.50, 3.50]\n",
    "plt.rcParams[\"figure.autolayout\"] = True\n",
    "\n",
    "plt.title(\"Accuracy/Precision/Recall vs No. Independent Training\")\n",
    "plt.xlabel(\"Number of Training (K)\")\n",
    "plt.ylabel(\"Accuracy/Precision/Recall Score\")\n",
    "plt.plot(K, acc, label = \"Accuracy\", color=\"red\")\n",
    "plt.plot(K, precision, label = \"Precision\", color=\"purple\")\n",
    "plt.plot(K, recall, label = \"Recall\", color=\"Green\")\n",
    "\n",
    "plt.legend()\n",
    "plt.show()"
   ]
  },
  {
   "cell_type": "code",
   "execution_count": null,
   "id": "6bf68d31",
   "metadata": {},
   "outputs": [],
   "source": []
  }
 ],
 "metadata": {
  "kernelspec": {
   "display_name": "Python 3 (ipykernel)",
   "language": "python",
   "name": "python3"
  },
  "language_info": {
   "codemirror_mode": {
    "name": "ipython",
    "version": 3
   },
   "file_extension": ".py",
   "mimetype": "text/x-python",
   "name": "python",
   "nbconvert_exporter": "python",
   "pygments_lexer": "ipython3",
   "version": "3.9.12"
  }
 },
 "nbformat": 4,
 "nbformat_minor": 5
}
